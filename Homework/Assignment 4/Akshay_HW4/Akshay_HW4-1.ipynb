{
 "cells": [
  {
   "cell_type": "markdown",
   "metadata": {
    "id": "lhnq4YzdybKY"
   },
   "source": [
    "**Question 1 [ 40 Points ] - Support Vector Machines (SVMs)** \n",
    "\n",
    "[25 points ] Download this dataset, split it as a 80% training and 20% test set. and implement the support vector algorithm from scratch using Numpy and Pandas.\n",
    "\n",
    "[10 points ] Report the accuracies for the train and test sets. Comment on whether your model has overfit.\n",
    "\n",
    "[5 points] Test your model performance with the scikit-learn model. Comment on the difference in accuracy. \n"
   ]
  },
  {
   "cell_type": "markdown",
   "metadata": {},
   "source": [
    "### Part 1"
   ]
  },
  {
   "cell_type": "code",
   "execution_count": 1,
   "metadata": {},
   "outputs": [],
   "source": [
    "import numpy as np\n",
    "import pandas as pd\n",
    "import matplotlib.pyplot as plt"
   ]
  },
  {
   "cell_type": "code",
   "execution_count": 2,
   "metadata": {},
   "outputs": [],
   "source": [
    "names = ['sepal-length', 'sepal-width', 'petal-length', 'petal-width', 'class']\n",
    "df = pd.read_csv(\"iris.data\", header=None, sep=',', names = names)"
   ]
  },
  {
   "cell_type": "code",
   "execution_count": 3,
   "metadata": {},
   "outputs": [
    {
     "data": {
      "text/html": [
       "<div>\n",
       "<style scoped>\n",
       "    .dataframe tbody tr th:only-of-type {\n",
       "        vertical-align: middle;\n",
       "    }\n",
       "\n",
       "    .dataframe tbody tr th {\n",
       "        vertical-align: top;\n",
       "    }\n",
       "\n",
       "    .dataframe thead th {\n",
       "        text-align: right;\n",
       "    }\n",
       "</style>\n",
       "<table border=\"1\" class=\"dataframe\">\n",
       "  <thead>\n",
       "    <tr style=\"text-align: right;\">\n",
       "      <th></th>\n",
       "      <th>sepal-length</th>\n",
       "      <th>sepal-width</th>\n",
       "      <th>petal-length</th>\n",
       "      <th>petal-width</th>\n",
       "      <th>class</th>\n",
       "    </tr>\n",
       "  </thead>\n",
       "  <tbody>\n",
       "    <tr>\n",
       "      <th>0</th>\n",
       "      <td>5.1</td>\n",
       "      <td>3.5</td>\n",
       "      <td>1.4</td>\n",
       "      <td>0.2</td>\n",
       "      <td>Iris-setosa</td>\n",
       "    </tr>\n",
       "    <tr>\n",
       "      <th>1</th>\n",
       "      <td>4.9</td>\n",
       "      <td>3.0</td>\n",
       "      <td>1.4</td>\n",
       "      <td>0.2</td>\n",
       "      <td>Iris-setosa</td>\n",
       "    </tr>\n",
       "    <tr>\n",
       "      <th>2</th>\n",
       "      <td>4.7</td>\n",
       "      <td>3.2</td>\n",
       "      <td>1.3</td>\n",
       "      <td>0.2</td>\n",
       "      <td>Iris-setosa</td>\n",
       "    </tr>\n",
       "    <tr>\n",
       "      <th>3</th>\n",
       "      <td>4.6</td>\n",
       "      <td>3.1</td>\n",
       "      <td>1.5</td>\n",
       "      <td>0.2</td>\n",
       "      <td>Iris-setosa</td>\n",
       "    </tr>\n",
       "    <tr>\n",
       "      <th>4</th>\n",
       "      <td>5.0</td>\n",
       "      <td>3.6</td>\n",
       "      <td>1.4</td>\n",
       "      <td>0.2</td>\n",
       "      <td>Iris-setosa</td>\n",
       "    </tr>\n",
       "  </tbody>\n",
       "</table>\n",
       "</div>"
      ],
      "text/plain": [
       "   sepal-length  sepal-width  petal-length  petal-width        class\n",
       "0           5.1          3.5           1.4          0.2  Iris-setosa\n",
       "1           4.9          3.0           1.4          0.2  Iris-setosa\n",
       "2           4.7          3.2           1.3          0.2  Iris-setosa\n",
       "3           4.6          3.1           1.5          0.2  Iris-setosa\n",
       "4           5.0          3.6           1.4          0.2  Iris-setosa"
      ]
     },
     "execution_count": 3,
     "metadata": {},
     "output_type": "execute_result"
    }
   ],
   "source": [
    "df.head()"
   ]
  },
  {
   "cell_type": "code",
   "execution_count": 4,
   "metadata": {},
   "outputs": [],
   "source": [
    "# Label Encoder\n",
    "from sklearn.preprocessing import LabelEncoder\n",
    "\n",
    "enc = LabelEncoder()\n",
    "\n",
    "df['target'] = enc.fit_transform(df['class'])\n",
    "df = df.drop('class', axis=1)"
   ]
  },
  {
   "cell_type": "code",
   "execution_count": 5,
   "metadata": {
    "id": "INzXYmZWzrFg"
   },
   "outputs": [],
   "source": [
    "# Train test split\n",
    "from sklearn.model_selection import train_test_split\n",
    "\n",
    "#X = df.drop('target', axis=1)\n",
    "#X = np.array(df[['petal-length', 'petal-width']])\n",
    "X = df.drop(df[df.target == 2].index)\n",
    "X = np.array(X[['petal-length', 'petal-width']])\n",
    "\n",
    "#y = np.array(df['target'])\n",
    "y = df.drop(df[df.target == 2].index)\n",
    "y = y['target']\n",
    "\n",
    "X_train, X_test, y_train, y_test = train_test_split(X, y, test_size=0.2, random_state=27)"
   ]
  },
  {
   "cell_type": "code",
   "execution_count": 6,
   "metadata": {},
   "outputs": [],
   "source": [
    "# reference\n",
    "# https://github.com/AssemblyAI-Examples/Machine-Learning-From-Scratch/blob/main/09%20SVM/svm.py\n",
    "class SVM:\n",
    "\n",
    "    def __init__(self, lr=0.001, lambda_value=0.01, num_iterations=1000):\n",
    "        self.lr = lr\n",
    "        self.lambda_value = lambda_value\n",
    "        self.num_iterations = num_iterations\n",
    "        self.w = None\n",
    "        self.b = None\n",
    "\n",
    "    def fit(self, X, y):\n",
    "        n_samples, n_features = X.shape\n",
    "\n",
    "        y_ = np.where(y <= 0, -1, 1)\n",
    "\n",
    "        # init weights\n",
    "        self.w = np.zeros(n_features)\n",
    "        self.b = 0\n",
    "\n",
    "        for _ in range(self.num_iterations):\n",
    "            for idx, x_i in enumerate(X):\n",
    "                condition = y_[idx] * (np.dot(x_i, self.w) - self.b) >= 1\n",
    "                if condition:\n",
    "                    self.w -= self.lr * (2 * self.lambda_value * self.w)\n",
    "                else:\n",
    "                    self.w -= self.lr * (2 * self.lambda_value * self.w - np.dot(x_i, y_[idx]))\n",
    "                    self.b -= self.lr * y_[idx]\n",
    "\n",
    "\n",
    "    def predict(self, X):\n",
    "        approx = np.dot(X, self.w) - self.b\n",
    "        return np.sign(approx)"
   ]
  },
  {
   "cell_type": "markdown",
   "metadata": {},
   "source": [
    "### Part 2"
   ]
  },
  {
   "cell_type": "code",
   "execution_count": 7,
   "metadata": {},
   "outputs": [],
   "source": [
    "def accuracy(y_true, y_pred):\n",
    "    accuracy = np.sum(y_true == y_pred) / len(y_true)\n",
    "    return accuracy"
   ]
  },
  {
   "cell_type": "code",
   "execution_count": 8,
   "metadata": {},
   "outputs": [],
   "source": [
    "clf = SVM()"
   ]
  },
  {
   "cell_type": "code",
   "execution_count": 9,
   "metadata": {},
   "outputs": [],
   "source": [
    "clf.fit(X_train, y_train)"
   ]
  },
  {
   "cell_type": "code",
   "execution_count": 10,
   "metadata": {},
   "outputs": [],
   "source": [
    "train_pred = clf.predict(X_train)\n",
    "test_pred = clf.predict(X_test)"
   ]
  },
  {
   "cell_type": "code",
   "execution_count": 11,
   "metadata": {},
   "outputs": [
    {
     "name": "stdout",
     "output_type": "stream",
     "text": [
      "Train accuracy on SVM scratch: 46.25%\n",
      "Test accuracy on SVM scratch: 65.0%\n"
     ]
    }
   ],
   "source": [
    "print(f\"Train accuracy on SVM scratch: {accuracy(y_train, train_pred) * 100}%\")\n",
    "print(f\"Test accuracy on SVM scratch: {accuracy(y_test, test_pred) * 100}%\")"
   ]
  },
  {
   "cell_type": "markdown",
   "metadata": {},
   "source": [
    "### Part 3"
   ]
  },
  {
   "cell_type": "code",
   "execution_count": 12,
   "metadata": {},
   "outputs": [],
   "source": [
    "from sklearn.svm import SVC"
   ]
  },
  {
   "cell_type": "code",
   "execution_count": 13,
   "metadata": {},
   "outputs": [],
   "source": [
    "svc = SVC(kernel='linear')"
   ]
  },
  {
   "cell_type": "code",
   "execution_count": 14,
   "metadata": {},
   "outputs": [
    {
     "data": {
      "text/html": [
       "<style>#sk-container-id-1 {color: black;background-color: white;}#sk-container-id-1 pre{padding: 0;}#sk-container-id-1 div.sk-toggleable {background-color: white;}#sk-container-id-1 label.sk-toggleable__label {cursor: pointer;display: block;width: 100%;margin-bottom: 0;padding: 0.3em;box-sizing: border-box;text-align: center;}#sk-container-id-1 label.sk-toggleable__label-arrow:before {content: \"▸\";float: left;margin-right: 0.25em;color: #696969;}#sk-container-id-1 label.sk-toggleable__label-arrow:hover:before {color: black;}#sk-container-id-1 div.sk-estimator:hover label.sk-toggleable__label-arrow:before {color: black;}#sk-container-id-1 div.sk-toggleable__content {max-height: 0;max-width: 0;overflow: hidden;text-align: left;background-color: #f0f8ff;}#sk-container-id-1 div.sk-toggleable__content pre {margin: 0.2em;color: black;border-radius: 0.25em;background-color: #f0f8ff;}#sk-container-id-1 input.sk-toggleable__control:checked~div.sk-toggleable__content {max-height: 200px;max-width: 100%;overflow: auto;}#sk-container-id-1 input.sk-toggleable__control:checked~label.sk-toggleable__label-arrow:before {content: \"▾\";}#sk-container-id-1 div.sk-estimator input.sk-toggleable__control:checked~label.sk-toggleable__label {background-color: #d4ebff;}#sk-container-id-1 div.sk-label input.sk-toggleable__control:checked~label.sk-toggleable__label {background-color: #d4ebff;}#sk-container-id-1 input.sk-hidden--visually {border: 0;clip: rect(1px 1px 1px 1px);clip: rect(1px, 1px, 1px, 1px);height: 1px;margin: -1px;overflow: hidden;padding: 0;position: absolute;width: 1px;}#sk-container-id-1 div.sk-estimator {font-family: monospace;background-color: #f0f8ff;border: 1px dotted black;border-radius: 0.25em;box-sizing: border-box;margin-bottom: 0.5em;}#sk-container-id-1 div.sk-estimator:hover {background-color: #d4ebff;}#sk-container-id-1 div.sk-parallel-item::after {content: \"\";width: 100%;border-bottom: 1px solid gray;flex-grow: 1;}#sk-container-id-1 div.sk-label:hover label.sk-toggleable__label {background-color: #d4ebff;}#sk-container-id-1 div.sk-serial::before {content: \"\";position: absolute;border-left: 1px solid gray;box-sizing: border-box;top: 0;bottom: 0;left: 50%;z-index: 0;}#sk-container-id-1 div.sk-serial {display: flex;flex-direction: column;align-items: center;background-color: white;padding-right: 0.2em;padding-left: 0.2em;position: relative;}#sk-container-id-1 div.sk-item {position: relative;z-index: 1;}#sk-container-id-1 div.sk-parallel {display: flex;align-items: stretch;justify-content: center;background-color: white;position: relative;}#sk-container-id-1 div.sk-item::before, #sk-container-id-1 div.sk-parallel-item::before {content: \"\";position: absolute;border-left: 1px solid gray;box-sizing: border-box;top: 0;bottom: 0;left: 50%;z-index: -1;}#sk-container-id-1 div.sk-parallel-item {display: flex;flex-direction: column;z-index: 1;position: relative;background-color: white;}#sk-container-id-1 div.sk-parallel-item:first-child::after {align-self: flex-end;width: 50%;}#sk-container-id-1 div.sk-parallel-item:last-child::after {align-self: flex-start;width: 50%;}#sk-container-id-1 div.sk-parallel-item:only-child::after {width: 0;}#sk-container-id-1 div.sk-dashed-wrapped {border: 1px dashed gray;margin: 0 0.4em 0.5em 0.4em;box-sizing: border-box;padding-bottom: 0.4em;background-color: white;}#sk-container-id-1 div.sk-label label {font-family: monospace;font-weight: bold;display: inline-block;line-height: 1.2em;}#sk-container-id-1 div.sk-label-container {text-align: center;}#sk-container-id-1 div.sk-container {/* jupyter's `normalize.less` sets `[hidden] { display: none; }` but bootstrap.min.css set `[hidden] { display: none !important; }` so we also need the `!important` here to be able to override the default hidden behavior on the sphinx rendered scikit-learn.org. See: https://github.com/scikit-learn/scikit-learn/issues/21755 */display: inline-block !important;position: relative;}#sk-container-id-1 div.sk-text-repr-fallback {display: none;}</style><div id=\"sk-container-id-1\" class=\"sk-top-container\"><div class=\"sk-text-repr-fallback\"><pre>SVC(kernel=&#x27;linear&#x27;)</pre><b>In a Jupyter environment, please rerun this cell to show the HTML representation or trust the notebook. <br />On GitHub, the HTML representation is unable to render, please try loading this page with nbviewer.org.</b></div><div class=\"sk-container\" hidden><div class=\"sk-item\"><div class=\"sk-estimator sk-toggleable\"><input class=\"sk-toggleable__control sk-hidden--visually\" id=\"sk-estimator-id-1\" type=\"checkbox\" checked><label for=\"sk-estimator-id-1\" class=\"sk-toggleable__label sk-toggleable__label-arrow\">SVC</label><div class=\"sk-toggleable__content\"><pre>SVC(kernel=&#x27;linear&#x27;)</pre></div></div></div></div></div>"
      ],
      "text/plain": [
       "SVC(kernel='linear')"
      ]
     },
     "execution_count": 14,
     "metadata": {},
     "output_type": "execute_result"
    }
   ],
   "source": [
    "svc.fit(X_train, y_train)"
   ]
  },
  {
   "cell_type": "code",
   "execution_count": 15,
   "metadata": {},
   "outputs": [
    {
     "name": "stdout",
     "output_type": "stream",
     "text": [
      "Train accuracy on sklearn SVM: 100.0%\n",
      "Test accuracy on sklearn SVM: 100.0%\n"
     ]
    }
   ],
   "source": [
    "svc.predict(X_test)\n",
    "\n",
    "print(f\"Train accuracy on sklearn SVM: {svc.score(X_train, y_train) * 100}%\")\n",
    "print(f\"Test accuracy on sklearn SVM: {svc.score(X_test, y_test) * 100}%\")"
   ]
  },
  {
   "cell_type": "markdown",
   "metadata": {},
   "source": [
    "We are using 2 features on the SVM from scratch - petal length and petal width. To maintain similarity, the sklearn version of SVM also used those 2 features. However, the sklearn version of SVM correctly classified all the points. This might point out to overfitting but it should also be noted that sklearn uses RBF as the kernel function and optimizes it using its default parameters. Also because of the 2 features, the size reduced from 150 to 100 which could also pose the fact that the data got reduced which means that the model will correctly classify the points."
   ]
  },
  {
   "cell_type": "markdown",
   "metadata": {},
   "source": [
    "For the SVM using numpy as pandas, the model is not optimized which leads to poor accuracy. Below is the plot for the numpy version of SVM."
   ]
  },
  {
   "cell_type": "code",
   "execution_count": 16,
   "metadata": {},
   "outputs": [
    {
     "data": {
      "image/png": "[encoded data removed]",
      "text/plain": [
       "<Figure size 640x480 with 1 Axes>"
      ]
     },
     "metadata": {},
     "output_type": "display_data"
    }
   ],
   "source": [
    "# reference\n",
    "# https://github.com/AssemblyAI-Examples/Machine-Learning-From-Scratch/blob/main/09%20SVM/svm.py\n",
    "\n",
    "def get_hyperplane_value(x, w, b, offset):\n",
    "    return (-w[0] * x + b + offset) / w[1]\n",
    "\n",
    "fig = plt.figure()\n",
    "ax = fig.add_subplot(1, 1, 1)\n",
    "plt.scatter(X[:, 0], X[:, 1], marker=\"o\", c=y)\n",
    "\n",
    "x0_1 = np.amin(X[:, 0])\n",
    "x0_2 = np.amax(X[:, 0])\n",
    "\n",
    "x1_1 = get_hyperplane_value(x0_1, clf.w, clf.b, 0)\n",
    "x1_2 = get_hyperplane_value(x0_2, clf.w, clf.b, 0)\n",
    "\n",
    "x1_1_m = get_hyperplane_value(x0_1, clf.w, clf.b, -1)\n",
    "x1_2_m = get_hyperplane_value(x0_2, clf.w, clf.b, -1)\n",
    "\n",
    "x1_1_p = get_hyperplane_value(x0_1, clf.w, clf.b, 1)\n",
    "x1_2_p = get_hyperplane_value(x0_2, clf.w, clf.b, 1)\n",
    "\n",
    "ax.plot([x0_1, x0_2], [x1_1, x1_2], \"y--\")\n",
    "ax.plot([x0_1, x0_2], [x1_1_m, x1_2_m], \"k\")\n",
    "ax.plot([x0_1, x0_2], [x1_1_p, x1_2_p], \"k\")\n",
    "\n",
    "x1_min = np.amin(X[:, 1])\n",
    "x1_max = np.amax(X[:, 1])\n",
    "ax.set_ylim([x1_min - 3, x1_max + 3])\n",
    "\n",
    "plt.show()"
   ]
  },
  {
   "cell_type": "markdown",
   "metadata": {},
   "source": [
    "As evident from the figure, we can see that the support vectors are not correct. There are some points that fall inside the support vector, reducing the accuracy."
   ]
  },
  {
   "cell_type": "markdown",
   "metadata": {
    "id": "ES4uUFwXz-aX"
   },
   "source": [
    "**Question 2 [ 40 Points ] - Decision Trees** \n",
    "\n",
    "a. [5 points] Complete the test_split function.\n",
    "\n",
    "b. [5 points] Complete the gini_index function.\n",
    "\n",
    "c. [5 points] Complete the get_split function.\n",
    "\n",
    "d. [15 points] Complete the split function.\n",
    "\n",
    "e. [10 points] Print the tree. "
   ]
  },
  {
   "cell_type": "code",
   "execution_count": 17,
   "metadata": {
    "id": "kDRZCShz45P3"
   },
   "outputs": [],
   "source": [
    "from sklearn.datasets import load_iris\n",
    "import numpy as np"
   ]
  },
  {
   "cell_type": "code",
   "execution_count": 18,
   "metadata": {
    "id": "FqI3dUn-z95m"
   },
   "outputs": [],
   "source": [
    "# Split a dataset based on an attribute and an attribute value\n",
    "def test_split(index, value, dataset):\n",
    "\tleft, right = list(), list()\n",
    "\tfor row in dataset:\n",
    "\t\tif row[index] < value:\n",
    "\t\t\tleft.append(row)\n",
    "\t\telse:\n",
    "\t\t\tright.append(row)\n",
    "            \n",
    "\treturn left, right"
   ]
  },
  {
   "cell_type": "code",
   "execution_count": 19,
   "metadata": {
    "id": "q338FeZs0p51"
   },
   "outputs": [],
   "source": [
    "# Calculate the Gini index for a split dataset\n",
    "def gini_index(groups, classes):\n",
    "\t# count all samples at split point\n",
    "\tn_instances = float(sum([len(group) for group in groups]))\n",
    "    \n",
    "\t# sum weighted Gini index for each group\n",
    "\tgini = 0.0\n",
    "\tfor group in groups:\n",
    "\t\tsize = float(len(group))\n",
    "\t\t# zero division check\n",
    "\t\tif size == 0:\n",
    "\t\t\tcontinue\n",
    "\t\tscore = 0.0\n",
    "\t\t# score the group based on the score for each class\n",
    "\t\tfor class_val in classes:\n",
    "\t\t\tp = [row[-1] for row in group].count(class_val) / size\n",
    "\t\t\tscore += p * p\n",
    "\t\t# weight the group score by its relative size\n",
    "\t\tgini += (1.0 - score) * (size / n_instances)\n",
    "        \n",
    "\treturn gini"
   ]
  },
  {
   "cell_type": "code",
   "execution_count": 20,
   "metadata": {
    "id": "PL6EsIaM05EJ"
   },
   "outputs": [],
   "source": [
    "# Select the best split point for a dataset\n",
    "def get_split(dataset):\n",
    "\tclass_values = list(set(row[-1] for row in dataset))\n",
    "\tb_index, b_value, b_score, b_groups = 999, 999, 999, None\n",
    "    \n",
    "\tfor index in range(len(dataset[0])-1):\n",
    "\t\tfor row in dataset:\n",
    "\t\t\tgroups = test_split(index, row[index], dataset)\n",
    "\t\t\tgini = gini_index(groups, class_values)\n",
    "\t\t\tprint('X%d < %.3f Gini=%.3f' % ((index+1), row[index], gini))\n",
    "\t\t\tif gini < b_score:\n",
    "\t\t\t\tb_index, b_value, b_score, b_groups = index, row[index], gini, groups\n",
    "                \n",
    "\treturn {'index':b_index, 'value':b_value, 'groups':b_groups}"
   ]
  },
  {
   "cell_type": "code",
   "execution_count": 21,
   "metadata": {
    "id": "cb_s3CsC1aGV"
   },
   "outputs": [],
   "source": [
    "# Create a terminal node value\n",
    "def to_terminal(group):\n",
    "\toutcomes = [row[-1] for row in group]\n",
    "\treturn max(set(outcomes), key=outcomes.count)"
   ]
  },
  {
   "cell_type": "code",
   "execution_count": 22,
   "metadata": {
    "id": "0Fv9McfA1cuP"
   },
   "outputs": [],
   "source": [
    "# Create child splits for a node or make terminal\n",
    "#Hint : Just call the to_terminal and get_split functions defined above. \n",
    "def split(node, max_depth, min_size, depth):\n",
    "\tleft, right = node['groups']\n",
    "\tdel(node['groups'])\n",
    "    \n",
    "\t# check for a no split\n",
    "\tif not left or not right:\n",
    "\t\tnode['left'] = node['right'] = to_terminal(left + right)\n",
    "\t\treturn\n",
    "\t# check for max depth\n",
    "\tif depth >= max_depth:\n",
    "\t\tnode['left'], node['right'] = to_terminal(left), to_terminal(right)\n",
    "\t\treturn\n",
    "    \n",
    "\t# process left child\n",
    "\tif len(left) <= min_size:\n",
    "\t\tnode['left'] = to_terminal(left)\n",
    "\telse:\n",
    "\t\tnode['left'] = get_split(left)\n",
    "\t\tsplit(node['left'], max_depth, min_size, depth+1)\n",
    "        \n",
    "\t# process right child\n",
    "\tif len(right) <= min_size:\n",
    "\t\tnode['right'] = to_terminal(right)\n",
    "\telse:\n",
    "\t\tnode['right'] = get_split(right)\n",
    "\t\tsplit(node['right'], max_depth, min_size, depth+1)"
   ]
  },
  {
   "cell_type": "code",
   "execution_count": 23,
   "metadata": {
    "id": "KQiNy9NE2IoJ"
   },
   "outputs": [],
   "source": [
    "# Build a decision tree\n",
    "def build_tree(train, max_depth, min_size):\n",
    "\troot = get_split(train)\n",
    "\tsplit(root, max_depth, min_size, 1)\n",
    "\treturn root"
   ]
  },
  {
   "cell_type": "code",
   "execution_count": 24,
   "metadata": {
    "id": "rSYBf-DQ2LYs"
   },
   "outputs": [],
   "source": [
    "# Print a decision tree\n",
    "def print_tree(node, depth=0):\n",
    "\tif isinstance(node, dict):\n",
    "\t\tprint('%s[X%d < %.3f]' % ((depth*' ', (node['index']+1), node['value'])))\n",
    "\t\tprint_tree(node['left'], depth+1)\n",
    "\t\tprint_tree(node['right'], depth+1)\n",
    "\telse:\n",
    "\t\tprint('%s[%s]' % ((depth*' ', node)))"
   ]
  },
  {
   "cell_type": "code",
   "execution_count": 25,
   "metadata": {
    "id": "MkuT-7SY40Yu"
   },
   "outputs": [],
   "source": [
    "iris= load_iris()\n",
    "\n",
    "X= np.array(iris.data)\n",
    "y= np.array(iris.target).reshape(-1,1)\n",
    "\n",
    "data = np.append(X,y,axis=1)"
   ]
  },
  {
   "cell_type": "code",
   "execution_count": 26,
   "metadata": {
    "id": "42ivIbmh2j5Y",
    "scrolled": true
   },
   "outputs": [
    {
     "name": "stdout",
     "output_type": "stream",
     "text": [
      "X1 < 5.100 Gini=0.547\n",
      "X1 < 4.900 Gini=0.587\n",
      "X1 < 4.700 Gini=0.624\n",
      "X1 < 4.600 Gini=0.644\n",
      "X1 < 5.000 Gini=0.581\n",
      "X1 < 5.400 Gini=0.474\n",
      "X1 < 4.600 Gini=0.644\n",
      "X1 < 5.000 Gini=0.581\n",
      "X1 < 4.400 Gini=0.662\n",
      "X1 < 4.900 Gini=0.587\n",
      "X1 < 5.400 Gini=0.474\n",
      "X1 < 4.800 Gini=0.614\n",
      "X1 < 4.800 Gini=0.614\n",
      "X1 < 4.300 Gini=0.667\n",
      "X1 < 5.800 Gini=0.475\n",
      "X1 < 5.700 Gini=0.475\n",
      "X1 < 5.400 Gini=0.474\n",
      "X1 < 5.100 Gini=0.547\n",
      "X1 < 5.700 Gini=0.475\n",
      "X1 < 5.100 Gini=0.547\n",
      "X1 < 5.400 Gini=0.474\n",
      "X1 < 5.100 Gini=0.547\n",
      "X1 < 4.600 Gini=0.644\n",
      "X1 < 5.100 Gini=0.547\n",
      "X1 < 4.800 Gini=0.614\n",
      "X1 < 5.000 Gini=0.581\n",
      "X1 < 5.000 Gini=0.581\n",
      "X1 < 5.200 Gini=0.498\n",
      "X1 < 5.200 Gini=0.498\n",
      "X1 < 4.700 Gini=0.624\n",
      "X1 < 4.800 Gini=0.614\n",
      "X1 < 5.400 Gini=0.474\n",
      "X1 < 5.200 Gini=0.498\n",
      "X1 < 5.500 Gini=0.439\n",
      "X1 < 4.900 Gini=0.587\n",
      "X1 < 5.000 Gini=0.581\n",
      "X1 < 5.500 Gini=0.439\n",
      "X1 < 4.900 Gini=0.587\n",
      "X1 < 4.400 Gini=0.662\n",
      "X1 < 5.100 Gini=0.547\n",
      "X1 < 5.000 Gini=0.581\n",
      "X1 < 4.500 Gini=0.648\n",
      "X1 < 4.400 Gini=0.662\n",
      "X1 < 5.000 Gini=0.581\n",
      "X1 < 5.100 Gini=0.547\n",
      "X1 < 4.800 Gini=0.614\n",
      "X1 < 5.100 Gini=0.547\n",
      "X1 < 4.600 Gini=0.644\n",
      "X1 < 5.300 Gini=0.482\n",
      "X1 < 5.000 Gini=0.581\n",
      "X1 < 7.000 Gini=0.617\n",
      "X1 < 6.400 Gini=0.558\n",
      "X1 < 6.900 Gini=0.608\n",
      "X1 < 5.500 Gini=0.439\n",
      "X1 < 6.500 Gini=0.580\n",
      "X1 < 5.700 Gini=0.475\n",
      "X1 < 6.300 Gini=0.528\n",
      "X1 < 4.900 Gini=0.587\n",
      "X1 < 6.600 Gini=0.598\n",
      "X1 < 5.200 Gini=0.498\n",
      "X1 < 5.000 Gini=0.581\n",
      "X1 < 5.900 Gini=0.492\n",
      "X1 < 6.000 Gini=0.500\n",
      "X1 < 6.100 Gini=0.512\n",
      "X1 < 5.600 Gini=0.449\n",
      "X1 < 6.700 Gini=0.591\n",
      "X1 < 5.600 Gini=0.449\n",
      "X1 < 5.800 Gini=0.475\n",
      "X1 < 6.200 Gini=0.520\n",
      "X1 < 5.600 Gini=0.449\n",
      "X1 < 5.900 Gini=0.492\n",
      "X1 < 6.100 Gini=0.512\n",
      "X1 < 6.300 Gini=0.528\n",
      "X1 < 6.100 Gini=0.512\n",
      "X1 < 6.400 Gini=0.558\n",
      "X1 < 6.600 Gini=0.598\n",
      "X1 < 6.800 Gini=0.603\n",
      "X1 < 6.700 Gini=0.591\n",
      "X1 < 6.000 Gini=0.500\n",
      "X1 < 5.700 Gini=0.475\n",
      "X1 < 5.500 Gini=0.439\n",
      "X1 < 5.500 Gini=0.439\n",
      "X1 < 5.800 Gini=0.475\n",
      "X1 < 6.000 Gini=0.500\n",
      "X1 < 5.400 Gini=0.474\n",
      "X1 < 6.000 Gini=0.500\n",
      "X1 < 6.700 Gini=0.591\n",
      "X1 < 6.300 Gini=0.528\n",
      "X1 < 5.600 Gini=0.449\n",
      "X1 < 5.500 Gini=0.439\n",
      "X1 < 5.500 Gini=0.439\n",
      "X1 < 6.100 Gini=0.512\n",
      "X1 < 5.800 Gini=0.475\n",
      "X1 < 5.000 Gini=0.581\n",
      "X1 < 5.600 Gini=0.449\n",
      "X1 < 5.700 Gini=0.475\n",
      "X1 < 5.700 Gini=0.475\n",
      "X1 < 6.200 Gini=0.520\n",
      "X1 < 5.100 Gini=0.547\n",
      "X1 < 5.700 Gini=0.475\n",
      "X1 < 6.300 Gini=0.528\n",
      "X1 < 5.800 Gini=0.475\n",
      "X1 < 7.100 Gini=0.609\n",
      "X1 < 6.300 Gini=0.528\n",
      "X1 < 6.500 Gini=0.580\n",
      "X1 < 7.600 Gini=0.639\n",
      "X1 < 4.900 Gini=0.587\n",
      "X1 < 7.300 Gini=0.629\n",
      "X1 < 6.700 Gini=0.591\n",
      "X1 < 7.200 Gini=0.614\n",
      "X1 < 6.500 Gini=0.580\n",
      "X1 < 6.400 Gini=0.558\n",
      "X1 < 6.800 Gini=0.603\n",
      "X1 < 5.700 Gini=0.475\n",
      "X1 < 5.800 Gini=0.475\n",
      "X1 < 6.400 Gini=0.558\n",
      "X1 < 6.500 Gini=0.580\n",
      "X1 < 7.700 Gini=0.644\n",
      "X1 < 7.700 Gini=0.644\n",
      "X1 < 6.000 Gini=0.500\n",
      "X1 < 6.900 Gini=0.608\n",
      "X1 < 5.600 Gini=0.449\n",
      "X1 < 7.700 Gini=0.644\n",
      "X1 < 6.300 Gini=0.528\n",
      "X1 < 6.700 Gini=0.591\n",
      "X1 < 7.200 Gini=0.614\n",
      "X1 < 6.200 Gini=0.520\n",
      "X1 < 6.100 Gini=0.512\n",
      "X1 < 6.400 Gini=0.558\n",
      "X1 < 7.200 Gini=0.614\n",
      "X1 < 7.400 Gini=0.634\n",
      "X1 < 7.900 Gini=0.662\n",
      "X1 < 6.400 Gini=0.558\n",
      "X1 < 6.300 Gini=0.528\n",
      "X1 < 6.100 Gini=0.512\n",
      "X1 < 7.700 Gini=0.644\n",
      "X1 < 6.300 Gini=0.528\n",
      "X1 < 6.400 Gini=0.558\n",
      "X1 < 6.000 Gini=0.500\n",
      "X1 < 6.900 Gini=0.608\n",
      "X1 < 6.700 Gini=0.591\n",
      "X1 < 6.900 Gini=0.608\n",
      "X1 < 5.800 Gini=0.475\n",
      "X1 < 6.800 Gini=0.603\n",
      "X1 < 6.700 Gini=0.591\n",
      "X1 < 6.700 Gini=0.591\n",
      "X1 < 6.300 Gini=0.528\n",
      "X1 < 6.500 Gini=0.580\n",
      "X1 < 6.200 Gini=0.520\n",
      "X1 < 5.900 Gini=0.492\n",
      "X2 < 3.500 Gini=0.576\n",
      "X2 < 3.000 Gini=0.569\n",
      "X2 < 3.200 Gini=0.554\n",
      "X2 < 3.100 Gini=0.555\n",
      "X2 < 3.600 Gini=0.609\n",
      "X2 < 3.900 Gini=0.639\n",
      "X2 < 3.400 Gini=0.540\n",
      "X2 < 3.400 Gini=0.540\n",
      "X2 < 2.900 Gini=0.593\n",
      "X2 < 3.100 Gini=0.555\n",
      "X2 < 3.700 Gini=0.618\n",
      "X2 < 3.400 Gini=0.540\n",
      "X2 < 3.000 Gini=0.569\n",
      "X2 < 3.000 Gini=0.569\n",
      "X2 < 4.000 Gini=0.648\n",
      "X2 < 4.400 Gini=0.662\n",
      "X2 < 3.900 Gini=0.639\n",
      "X2 < 3.500 Gini=0.576\n",
      "X2 < 3.800 Gini=0.633\n",
      "X2 < 3.800 Gini=0.633\n",
      "X2 < 3.400 Gini=0.540\n",
      "X2 < 3.700 Gini=0.618\n",
      "X2 < 3.600 Gini=0.609\n",
      "X2 < 3.300 Gini=0.549\n",
      "X2 < 3.400 Gini=0.540\n",
      "X2 < 3.000 Gini=0.569\n",
      "X2 < 3.400 Gini=0.540\n",
      "X2 < 3.500 Gini=0.576\n",
      "X2 < 3.400 Gini=0.540\n",
      "X2 < 3.200 Gini=0.554\n",
      "X2 < 3.100 Gini=0.555\n",
      "X2 < 3.400 Gini=0.540\n",
      "X2 < 4.100 Gini=0.653\n",
      "X2 < 4.200 Gini=0.658\n",
      "X2 < 3.100 Gini=0.555\n",
      "X2 < 3.200 Gini=0.554\n",
      "X2 < 3.500 Gini=0.576\n",
      "X2 < 3.600 Gini=0.609\n",
      "X2 < 3.000 Gini=0.569\n",
      "X2 < 3.400 Gini=0.540\n",
      "X2 < 3.500 Gini=0.576\n",
      "X2 < 2.300 Gini=0.659\n",
      "X2 < 3.200 Gini=0.554\n",
      "X2 < 3.500 Gini=0.576\n",
      "X2 < 3.800 Gini=0.633\n",
      "X2 < 3.000 Gini=0.569\n",
      "X2 < 3.800 Gini=0.633\n",
      "X2 < 3.200 Gini=0.554\n",
      "X2 < 3.700 Gini=0.618\n",
      "X2 < 3.300 Gini=0.549\n",
      "X2 < 3.200 Gini=0.554\n",
      "X2 < 3.200 Gini=0.554\n",
      "X2 < 3.100 Gini=0.555\n",
      "X2 < 2.300 Gini=0.659\n",
      "X2 < 2.800 Gini=0.615\n",
      "X2 < 2.800 Gini=0.615\n",
      "X2 < 3.300 Gini=0.549\n",
      "X2 < 2.400 Gini=0.652\n",
      "X2 < 2.900 Gini=0.593\n",
      "X2 < 2.700 Gini=0.629\n",
      "X2 < 2.000 Gini=0.667\n",
      "X2 < 3.000 Gini=0.569\n",
      "X2 < 2.200 Gini=0.662\n",
      "X2 < 2.900 Gini=0.593\n",
      "X2 < 2.900 Gini=0.593\n",
      "X2 < 3.100 Gini=0.555\n",
      "X2 < 3.000 Gini=0.569\n",
      "X2 < 2.700 Gini=0.629\n",
      "X2 < 2.200 Gini=0.662\n",
      "X2 < 2.500 Gini=0.639\n",
      "X2 < 3.200 Gini=0.554\n",
      "X2 < 2.800 Gini=0.615\n",
      "X2 < 2.500 Gini=0.639\n",
      "X2 < 2.800 Gini=0.615\n",
      "X2 < 2.900 Gini=0.593\n",
      "X2 < 3.000 Gini=0.569\n",
      "X2 < 2.800 Gini=0.615\n",
      "X2 < 3.000 Gini=0.569\n",
      "X2 < 2.900 Gini=0.593\n",
      "X2 < 2.600 Gini=0.637\n",
      "X2 < 2.400 Gini=0.652\n",
      "X2 < 2.400 Gini=0.652\n",
      "X2 < 2.700 Gini=0.629\n",
      "X2 < 2.700 Gini=0.629\n",
      "X2 < 3.000 Gini=0.569\n",
      "X2 < 3.400 Gini=0.540\n",
      "X2 < 3.100 Gini=0.555\n",
      "X2 < 2.300 Gini=0.659\n",
      "X2 < 3.000 Gini=0.569\n",
      "X2 < 2.500 Gini=0.639\n",
      "X2 < 2.600 Gini=0.637\n",
      "X2 < 3.000 Gini=0.569\n",
      "X2 < 2.600 Gini=0.637\n",
      "X2 < 2.300 Gini=0.659\n",
      "X2 < 2.700 Gini=0.629\n",
      "X2 < 3.000 Gini=0.569\n",
      "X2 < 2.900 Gini=0.593\n",
      "X2 < 2.900 Gini=0.593\n",
      "X2 < 2.500 Gini=0.639\n",
      "X2 < 2.800 Gini=0.615\n",
      "X2 < 3.300 Gini=0.549\n",
      "X2 < 2.700 Gini=0.629\n",
      "X2 < 3.000 Gini=0.569\n",
      "X2 < 2.900 Gini=0.593\n",
      "X2 < 3.000 Gini=0.569\n",
      "X2 < 3.000 Gini=0.569\n",
      "X2 < 2.500 Gini=0.639\n",
      "X2 < 2.900 Gini=0.593\n",
      "X2 < 2.500 Gini=0.639\n",
      "X2 < 3.600 Gini=0.609\n",
      "X2 < 3.200 Gini=0.554\n",
      "X2 < 2.700 Gini=0.629\n",
      "X2 < 3.000 Gini=0.569\n",
      "X2 < 2.500 Gini=0.639\n",
      "X2 < 2.800 Gini=0.615\n",
      "X2 < 3.200 Gini=0.554\n",
      "X2 < 3.000 Gini=0.569\n",
      "X2 < 3.800 Gini=0.633\n",
      "X2 < 2.600 Gini=0.637\n",
      "X2 < 2.200 Gini=0.662\n",
      "X2 < 3.200 Gini=0.554\n",
      "X2 < 2.800 Gini=0.615\n",
      "X2 < 2.800 Gini=0.615\n",
      "X2 < 2.700 Gini=0.629\n",
      "X2 < 3.300 Gini=0.549\n",
      "X2 < 3.200 Gini=0.554\n",
      "X2 < 2.800 Gini=0.615\n",
      "X2 < 3.000 Gini=0.569\n",
      "X2 < 2.800 Gini=0.615\n",
      "X2 < 3.000 Gini=0.569\n",
      "X2 < 2.800 Gini=0.615\n",
      "X2 < 3.800 Gini=0.633\n",
      "X2 < 2.800 Gini=0.615\n",
      "X2 < 2.800 Gini=0.615\n",
      "X2 < 2.600 Gini=0.637\n",
      "X2 < 3.000 Gini=0.569\n",
      "X2 < 3.400 Gini=0.540\n",
      "X2 < 3.100 Gini=0.555\n",
      "X2 < 3.000 Gini=0.569\n",
      "X2 < 3.100 Gini=0.555\n",
      "X2 < 3.100 Gini=0.555\n",
      "X2 < 3.100 Gini=0.555\n",
      "X2 < 2.700 Gini=0.629\n",
      "X2 < 3.200 Gini=0.554\n",
      "X2 < 3.300 Gini=0.549\n",
      "X2 < 3.000 Gini=0.569\n",
      "X2 < 2.500 Gini=0.639\n",
      "X2 < 3.000 Gini=0.569\n",
      "X2 < 3.400 Gini=0.540\n",
      "X2 < 3.000 Gini=0.569\n",
      "X3 < 1.400 Gini=0.614\n",
      "X3 < 1.400 Gini=0.614\n",
      "X3 < 1.300 Gini=0.648\n",
      "X3 < 1.500 Gini=0.540\n",
      "X3 < 1.400 Gini=0.614\n",
      "X3 < 1.700 Gini=0.390\n",
      "X3 < 1.400 Gini=0.614\n",
      "X3 < 1.500 Gini=0.540\n",
      "X3 < 1.400 Gini=0.614\n",
      "X3 < 1.500 Gini=0.540\n",
      "X3 < 1.500 Gini=0.540\n",
      "X3 < 1.600 Gini=0.448\n",
      "X3 < 1.400 Gini=0.614\n",
      "X3 < 1.100 Gini=0.662\n",
      "X3 < 1.200 Gini=0.658\n",
      "X3 < 1.500 Gini=0.540\n",
      "X3 < 1.300 Gini=0.648\n",
      "X3 < 1.400 Gini=0.614\n",
      "X3 < 1.700 Gini=0.390\n",
      "X3 < 1.500 Gini=0.540\n",
      "X3 < 1.700 Gini=0.390\n",
      "X3 < 1.500 Gini=0.540\n",
      "X3 < 1.000 Gini=0.667\n",
      "X3 < 1.700 Gini=0.390\n",
      "X3 < 1.900 Gini=0.353\n",
      "X3 < 1.600 Gini=0.448\n",
      "X3 < 1.600 Gini=0.448\n",
      "X3 < 1.500 Gini=0.540\n",
      "X3 < 1.400 Gini=0.614\n",
      "X3 < 1.600 Gini=0.448\n",
      "X3 < 1.600 Gini=0.448\n",
      "X3 < 1.500 Gini=0.540\n",
      "X3 < 1.500 Gini=0.540\n",
      "X3 < 1.400 Gini=0.614\n",
      "X3 < 1.500 Gini=0.540\n",
      "X3 < 1.200 Gini=0.658\n",
      "X3 < 1.300 Gini=0.648\n",
      "X3 < 1.400 Gini=0.614\n",
      "X3 < 1.300 Gini=0.648\n",
      "X3 < 1.500 Gini=0.540\n",
      "X3 < 1.300 Gini=0.648\n",
      "X3 < 1.300 Gini=0.648\n",
      "X3 < 1.300 Gini=0.648\n",
      "X3 < 1.600 Gini=0.448\n",
      "X3 < 1.900 Gini=0.353\n",
      "X3 < 1.400 Gini=0.614\n",
      "X3 < 1.600 Gini=0.448\n",
      "X3 < 1.400 Gini=0.614\n",
      "X3 < 1.500 Gini=0.540\n",
      "X3 < 1.400 Gini=0.614\n",
      "X3 < 4.700 Gini=0.422\n",
      "X3 < 4.500 Gini=0.442\n",
      "X3 < 4.900 Gini=0.398\n",
      "X3 < 4.000 Gini=0.412\n",
      "X3 < 4.600 Gini=0.434\n",
      "X3 < 4.500 Gini=0.442\n",
      "X3 < 4.700 Gini=0.422\n",
      "X3 < 3.300 Gini=0.343\n",
      "X3 < 4.600 Gini=0.434\n",
      "X3 < 3.900 Gini=0.396\n",
      "X3 < 3.500 Gini=0.361\n",
      "X3 < 4.200 Gini=0.439\n",
      "X3 < 4.000 Gini=0.412\n",
      "X3 < 4.700 Gini=0.422\n",
      "X3 < 3.600 Gini=0.376\n",
      "X3 < 4.400 Gini=0.444\n",
      "X3 < 4.500 Gini=0.442\n",
      "X3 < 4.100 Gini=0.431\n",
      "X3 < 4.500 Gini=0.442\n",
      "X3 < 3.900 Gini=0.396\n",
      "X3 < 4.800 Gini=0.393\n",
      "X3 < 4.000 Gini=0.412\n",
      "X3 < 4.900 Gini=0.398\n",
      "X3 < 4.700 Gini=0.422\n",
      "X3 < 4.300 Gini=0.444\n",
      "X3 < 4.400 Gini=0.444\n",
      "X3 < 4.800 Gini=0.393\n",
      "X3 < 5.000 Gini=0.409\n",
      "X3 < 4.500 Gini=0.442\n",
      "X3 < 3.500 Gini=0.361\n",
      "X3 < 3.800 Gini=0.390\n",
      "X3 < 3.700 Gini=0.383\n",
      "X3 < 3.900 Gini=0.396\n",
      "X3 < 5.100 Gini=0.425\n",
      "X3 < 4.500 Gini=0.442\n",
      "X3 < 4.500 Gini=0.442\n",
      "X3 < 4.700 Gini=0.422\n",
      "X3 < 4.400 Gini=0.444\n",
      "X3 < 4.100 Gini=0.431\n",
      "X3 < 4.000 Gini=0.412\n",
      "X3 < 4.400 Gini=0.444\n",
      "X3 < 4.600 Gini=0.434\n",
      "X3 < 4.000 Gini=0.412\n",
      "X3 < 3.300 Gini=0.343\n",
      "X3 < 4.200 Gini=0.439\n",
      "X3 < 4.200 Gini=0.439\n",
      "X3 < 4.200 Gini=0.439\n",
      "X3 < 4.300 Gini=0.444\n",
      "X3 < 3.000 Gini=0.333\n",
      "X3 < 4.100 Gini=0.431\n",
      "X3 < 6.000 Gini=0.614\n",
      "X3 < 5.100 Gini=0.425\n",
      "X3 < 5.900 Gini=0.603\n",
      "X3 < 5.600 Gini=0.533\n",
      "X3 < 5.800 Gini=0.587\n",
      "X3 < 6.600 Gini=0.648\n",
      "X3 < 4.500 Gini=0.442\n",
      "X3 < 6.300 Gini=0.639\n",
      "X3 < 5.800 Gini=0.587\n",
      "X3 < 6.100 Gini=0.624\n",
      "X3 < 5.100 Gini=0.425\n",
      "X3 < 5.300 Gini=0.486\n",
      "X3 < 5.500 Gini=0.514\n",
      "X3 < 5.000 Gini=0.409\n",
      "X3 < 5.100 Gini=0.425\n",
      "X3 < 5.300 Gini=0.486\n",
      "X3 < 5.500 Gini=0.514\n",
      "X3 < 6.700 Gini=0.653\n",
      "X3 < 6.900 Gini=0.662\n",
      "X3 < 5.000 Gini=0.409\n",
      "X3 < 5.700 Gini=0.570\n",
      "X3 < 4.900 Gini=0.398\n",
      "X3 < 6.700 Gini=0.653\n",
      "X3 < 4.900 Gini=0.398\n",
      "X3 < 5.700 Gini=0.570\n",
      "X3 < 6.000 Gini=0.614\n",
      "X3 < 4.800 Gini=0.393\n",
      "X3 < 4.900 Gini=0.398\n",
      "X3 < 5.600 Gini=0.533\n",
      "X3 < 5.800 Gini=0.587\n",
      "X3 < 6.100 Gini=0.624\n",
      "X3 < 6.400 Gini=0.644\n",
      "X3 < 5.600 Gini=0.533\n",
      "X3 < 5.100 Gini=0.425\n",
      "X3 < 5.600 Gini=0.533\n",
      "X3 < 6.100 Gini=0.624\n",
      "X3 < 5.600 Gini=0.533\n",
      "X3 < 5.500 Gini=0.514\n",
      "X3 < 4.800 Gini=0.393\n",
      "X3 < 5.400 Gini=0.500\n",
      "X3 < 5.600 Gini=0.533\n",
      "X3 < 5.100 Gini=0.425\n",
      "X3 < 5.100 Gini=0.425\n",
      "X3 < 5.900 Gini=0.603\n",
      "X3 < 5.700 Gini=0.570\n",
      "X3 < 5.200 Gini=0.471\n",
      "X3 < 5.000 Gini=0.409\n",
      "X3 < 5.200 Gini=0.471\n",
      "X3 < 5.400 Gini=0.500\n",
      "X3 < 5.100 Gini=0.425\n",
      "X4 < 0.200 Gini=0.644\n",
      "X4 < 0.200 Gini=0.644\n",
      "X4 < 0.200 Gini=0.644\n",
      "X4 < 0.200 Gini=0.644\n",
      "X4 < 0.200 Gini=0.644\n",
      "X4 < 0.400 Gini=0.416\n",
      "X4 < 0.300 Gini=0.471\n",
      "X4 < 0.200 Gini=0.644\n",
      "X4 < 0.200 Gini=0.644\n",
      "X4 < 0.100 Gini=0.667\n",
      "X4 < 0.200 Gini=0.644\n",
      "X4 < 0.200 Gini=0.644\n",
      "X4 < 0.100 Gini=0.667\n",
      "X4 < 0.100 Gini=0.667\n",
      "X4 < 0.200 Gini=0.644\n",
      "X4 < 0.400 Gini=0.416\n",
      "X4 < 0.400 Gini=0.416\n",
      "X4 < 0.300 Gini=0.471\n",
      "X4 < 0.300 Gini=0.471\n",
      "X4 < 0.300 Gini=0.471\n",
      "X4 < 0.200 Gini=0.644\n",
      "X4 < 0.400 Gini=0.416\n",
      "X4 < 0.200 Gini=0.644\n",
      "X4 < 0.500 Gini=0.353\n",
      "X4 < 0.200 Gini=0.644\n",
      "X4 < 0.200 Gini=0.644\n",
      "X4 < 0.400 Gini=0.416\n",
      "X4 < 0.200 Gini=0.644\n",
      "X4 < 0.200 Gini=0.644\n",
      "X4 < 0.200 Gini=0.644\n",
      "X4 < 0.200 Gini=0.644\n",
      "X4 < 0.400 Gini=0.416\n",
      "X4 < 0.100 Gini=0.667\n",
      "X4 < 0.200 Gini=0.644\n",
      "X4 < 0.200 Gini=0.644\n",
      "X4 < 0.200 Gini=0.644\n",
      "X4 < 0.200 Gini=0.644\n",
      "X4 < 0.100 Gini=0.667\n",
      "X4 < 0.200 Gini=0.644\n",
      "X4 < 0.200 Gini=0.644\n",
      "X4 < 0.300 Gini=0.471\n",
      "X4 < 0.300 Gini=0.471\n",
      "X4 < 0.200 Gini=0.644\n",
      "X4 < 0.600 Gini=0.343\n",
      "X4 < 0.400 Gini=0.416\n",
      "X4 < 0.300 Gini=0.471\n",
      "X4 < 0.200 Gini=0.644\n",
      "X4 < 0.200 Gini=0.644\n",
      "X4 < 0.200 Gini=0.644\n",
      "X4 < 0.200 Gini=0.644\n",
      "X4 < 1.400 Gini=0.443\n",
      "X4 < 1.500 Gini=0.438\n",
      "X4 < 1.500 Gini=0.438\n",
      "X4 < 1.300 Gini=0.428\n",
      "X4 < 1.500 Gini=0.438\n",
      "X4 < 1.300 Gini=0.428\n",
      "X4 < 1.600 Gini=0.405\n",
      "X4 < 1.000 Gini=0.333\n",
      "X4 < 1.300 Gini=0.428\n",
      "X4 < 1.400 Gini=0.443\n",
      "X4 < 1.000 Gini=0.333\n",
      "X4 < 1.500 Gini=0.438\n",
      "X4 < 1.000 Gini=0.333\n",
      "X4 < 1.400 Gini=0.443\n",
      "X4 < 1.300 Gini=0.428\n",
      "X4 < 1.400 Gini=0.443\n",
      "X4 < 1.500 Gini=0.438\n",
      "X4 < 1.000 Gini=0.333\n",
      "X4 < 1.500 Gini=0.438\n",
      "X4 < 1.100 Gini=0.390\n",
      "X4 < 1.800 Gini=0.391\n",
      "X4 < 1.300 Gini=0.428\n",
      "X4 < 1.500 Gini=0.438\n",
      "X4 < 1.200 Gini=0.407\n",
      "X4 < 1.300 Gini=0.428\n",
      "X4 < 1.400 Gini=0.443\n",
      "X4 < 1.400 Gini=0.443\n",
      "X4 < 1.700 Gini=0.391\n",
      "X4 < 1.500 Gini=0.438\n",
      "X4 < 1.000 Gini=0.333\n",
      "X4 < 1.100 Gini=0.390\n",
      "X4 < 1.000 Gini=0.333\n",
      "X4 < 1.200 Gini=0.407\n",
      "X4 < 1.600 Gini=0.405\n",
      "X4 < 1.500 Gini=0.438\n",
      "X4 < 1.600 Gini=0.405\n",
      "X4 < 1.500 Gini=0.438\n",
      "X4 < 1.300 Gini=0.428\n",
      "X4 < 1.300 Gini=0.428\n",
      "X4 < 1.300 Gini=0.428\n",
      "X4 < 1.200 Gini=0.407\n",
      "X4 < 1.400 Gini=0.443\n",
      "X4 < 1.200 Gini=0.407\n",
      "X4 < 1.000 Gini=0.333\n",
      "X4 < 1.300 Gini=0.428\n",
      "X4 < 1.200 Gini=0.407\n",
      "X4 < 1.300 Gini=0.428\n",
      "X4 < 1.300 Gini=0.428\n",
      "X4 < 1.100 Gini=0.390\n",
      "X4 < 1.300 Gini=0.428\n",
      "X4 < 2.500 Gini=0.653\n",
      "X4 < 1.900 Gini=0.471\n",
      "X4 < 2.100 Gini=0.546\n",
      "X4 < 1.800 Gini=0.391\n",
      "X4 < 2.200 Gini=0.581\n",
      "X4 < 2.100 Gini=0.546\n",
      "X4 < 1.700 Gini=0.391\n",
      "X4 < 1.800 Gini=0.391\n",
      "X4 < 1.800 Gini=0.391\n",
      "X4 < 2.500 Gini=0.653\n",
      "X4 < 2.000 Gini=0.507\n",
      "X4 < 1.900 Gini=0.471\n",
      "X4 < 2.100 Gini=0.546\n",
      "X4 < 2.000 Gini=0.507\n",
      "X4 < 2.400 Gini=0.639\n",
      "X4 < 2.300 Gini=0.598\n",
      "X4 < 1.800 Gini=0.391\n",
      "X4 < 2.200 Gini=0.581\n",
      "X4 < 2.300 Gini=0.598\n",
      "X4 < 1.500 Gini=0.438\n",
      "X4 < 2.300 Gini=0.598\n",
      "X4 < 2.000 Gini=0.507\n",
      "X4 < 2.000 Gini=0.507\n",
      "X4 < 1.800 Gini=0.391\n",
      "X4 < 2.100 Gini=0.546\n",
      "X4 < 1.800 Gini=0.391\n",
      "X4 < 1.800 Gini=0.391\n",
      "X4 < 1.800 Gini=0.391\n",
      "X4 < 2.100 Gini=0.546\n",
      "X4 < 1.600 Gini=0.405\n",
      "X4 < 1.900 Gini=0.471\n",
      "X4 < 2.000 Gini=0.507\n",
      "X4 < 2.200 Gini=0.581\n",
      "X4 < 1.500 Gini=0.438\n",
      "X4 < 1.400 Gini=0.443\n",
      "X4 < 2.300 Gini=0.598\n",
      "X4 < 2.400 Gini=0.639\n",
      "X4 < 1.800 Gini=0.391\n",
      "X4 < 1.800 Gini=0.391\n",
      "X4 < 2.100 Gini=0.546\n",
      "X4 < 2.400 Gini=0.639\n",
      "X4 < 2.300 Gini=0.598\n",
      "X4 < 1.900 Gini=0.471\n",
      "X4 < 2.300 Gini=0.598\n",
      "X4 < 2.500 Gini=0.653\n",
      "X4 < 2.300 Gini=0.598\n",
      "X4 < 1.900 Gini=0.471\n",
      "X4 < 2.000 Gini=0.507\n",
      "X4 < 2.300 Gini=0.598\n",
      "X4 < 1.800 Gini=0.391\n",
      "[X3 < 3.000]\n",
      " [0.0]\n",
      " [1.0]\n"
     ]
    }
   ],
   "source": [
    "tree = build_tree(data, 1, 1)\n",
    "print_tree(tree)"
   ]
  },
  {
   "cell_type": "markdown",
   "metadata": {
    "id": "CAEFoJMP70So"
   },
   "source": [
    "**Question 3 [ 20 Points ] - Random Forests and Boosting**\n"
   ]
  },
  {
   "cell_type": "code",
   "execution_count": 27,
   "metadata": {},
   "outputs": [],
   "source": [
    "import numpy as np\n",
    "import pandas as pd"
   ]
  },
  {
   "cell_type": "code",
   "execution_count": 28,
   "metadata": {},
   "outputs": [],
   "source": [
    "cols = ['buying', 'maint', 'doors', 'persons', 'lug_boot', 'safety', 'class']\n",
    "df = pd.read_csv('car.data', header=None, sep=',', names=cols)"
   ]
  },
  {
   "cell_type": "code",
   "execution_count": 29,
   "metadata": {},
   "outputs": [
    {
     "data": {
      "text/html": [
       "<div>\n",
       "<style scoped>\n",
       "    .dataframe tbody tr th:only-of-type {\n",
       "        vertical-align: middle;\n",
       "    }\n",
       "\n",
       "    .dataframe tbody tr th {\n",
       "        vertical-align: top;\n",
       "    }\n",
       "\n",
       "    .dataframe thead th {\n",
       "        text-align: right;\n",
       "    }\n",
       "</style>\n",
       "<table border=\"1\" class=\"dataframe\">\n",
       "  <thead>\n",
       "    <tr style=\"text-align: right;\">\n",
       "      <th></th>\n",
       "      <th>buying</th>\n",
       "      <th>maint</th>\n",
       "      <th>doors</th>\n",
       "      <th>persons</th>\n",
       "      <th>lug_boot</th>\n",
       "      <th>safety</th>\n",
       "      <th>class</th>\n",
       "    </tr>\n",
       "  </thead>\n",
       "  <tbody>\n",
       "    <tr>\n",
       "      <th>0</th>\n",
       "      <td>vhigh</td>\n",
       "      <td>vhigh</td>\n",
       "      <td>2</td>\n",
       "      <td>2</td>\n",
       "      <td>small</td>\n",
       "      <td>low</td>\n",
       "      <td>unacc</td>\n",
       "    </tr>\n",
       "    <tr>\n",
       "      <th>1</th>\n",
       "      <td>vhigh</td>\n",
       "      <td>vhigh</td>\n",
       "      <td>2</td>\n",
       "      <td>2</td>\n",
       "      <td>small</td>\n",
       "      <td>med</td>\n",
       "      <td>unacc</td>\n",
       "    </tr>\n",
       "    <tr>\n",
       "      <th>2</th>\n",
       "      <td>vhigh</td>\n",
       "      <td>vhigh</td>\n",
       "      <td>2</td>\n",
       "      <td>2</td>\n",
       "      <td>small</td>\n",
       "      <td>high</td>\n",
       "      <td>unacc</td>\n",
       "    </tr>\n",
       "    <tr>\n",
       "      <th>3</th>\n",
       "      <td>vhigh</td>\n",
       "      <td>vhigh</td>\n",
       "      <td>2</td>\n",
       "      <td>2</td>\n",
       "      <td>med</td>\n",
       "      <td>low</td>\n",
       "      <td>unacc</td>\n",
       "    </tr>\n",
       "    <tr>\n",
       "      <th>4</th>\n",
       "      <td>vhigh</td>\n",
       "      <td>vhigh</td>\n",
       "      <td>2</td>\n",
       "      <td>2</td>\n",
       "      <td>med</td>\n",
       "      <td>med</td>\n",
       "      <td>unacc</td>\n",
       "    </tr>\n",
       "  </tbody>\n",
       "</table>\n",
       "</div>"
      ],
      "text/plain": [
       "  buying  maint doors persons lug_boot safety  class\n",
       "0  vhigh  vhigh     2       2    small    low  unacc\n",
       "1  vhigh  vhigh     2       2    small    med  unacc\n",
       "2  vhigh  vhigh     2       2    small   high  unacc\n",
       "3  vhigh  vhigh     2       2      med    low  unacc\n",
       "4  vhigh  vhigh     2       2      med    med  unacc"
      ]
     },
     "execution_count": 29,
     "metadata": {},
     "output_type": "execute_result"
    }
   ],
   "source": [
    "df.head()"
   ]
  },
  {
   "cell_type": "code",
   "execution_count": 30,
   "metadata": {},
   "outputs": [],
   "source": [
    "# Label encoding\n",
    "from sklearn.preprocessing import LabelEncoder\n",
    "\n",
    "enc = LabelEncoder()\n",
    "df = df.apply(enc.fit_transform)"
   ]
  },
  {
   "cell_type": "code",
   "execution_count": 31,
   "metadata": {},
   "outputs": [],
   "source": [
    "# Train test split\n",
    "from sklearn.model_selection import train_test_split"
   ]
  },
  {
   "cell_type": "code",
   "execution_count": 32,
   "metadata": {},
   "outputs": [],
   "source": [
    "X = df.drop('class', axis=1)\n",
    "y = df['class']"
   ]
  },
  {
   "cell_type": "code",
   "execution_count": 33,
   "metadata": {},
   "outputs": [],
   "source": [
    "X_train, X_test, y_train, y_test = train_test_split(X, y, test_size=0.2, random_state=27)"
   ]
  },
  {
   "cell_type": "markdown",
   "metadata": {},
   "source": [
    "### Part 1"
   ]
  },
  {
   "cell_type": "code",
   "execution_count": 34,
   "metadata": {},
   "outputs": [
    {
     "name": "stdout",
     "output_type": "stream",
     "text": [
      "Training Accuracy using Random Forest Classifier: 100.0%\n",
      "Testing Accuracy using Random Forest Classifier: 98.26589595375722%\n"
     ]
    }
   ],
   "source": [
    "# Random Forest Classifier\n",
    "from sklearn.ensemble import RandomForestClassifier\n",
    "\n",
    "rfc = RandomForestClassifier()\n",
    "\n",
    "rfc.fit(X_train, y_train)\n",
    "rfc.predict(X_test)\n",
    "\n",
    "print(f\"Training Accuracy using Random Forest Classifier: {(rfc.score(X_train, y_train)) * 100}%\")\n",
    "print(f\"Testing Accuracy using Random Forest Classifier: {(rfc.score(X_test, y_test)) * 100}%\")"
   ]
  },
  {
   "cell_type": "markdown",
   "metadata": {},
   "source": [
    "### Part 2"
   ]
  },
  {
   "cell_type": "code",
   "execution_count": 35,
   "metadata": {},
   "outputs": [
    {
     "name": "stdout",
     "output_type": "stream",
     "text": [
      "Training Accuracy using Gradient Boosting Classifier: 100.0%\n",
      "Testing Accuracy using Gradient Boosting Classifier: 97.97687861271676%\n"
     ]
    }
   ],
   "source": [
    "# Gradient Boosting Classifier\n",
    "from sklearn.ensemble import GradientBoostingClassifier\n",
    "\n",
    "gbc = RandomForestClassifier()\n",
    "\n",
    "gbc.fit(X_train, y_train)\n",
    "gbc.predict(X_test)\n",
    "\n",
    "print(f\"Training Accuracy using Gradient Boosting Classifier: {(gbc.score(X_train, y_train)) * 100}%\")\n",
    "print(f\"Testing Accuracy using Gradient Boosting Classifier: {(gbc.score(X_test, y_test)) * 100}%\")"
   ]
  },
  {
   "cell_type": "markdown",
   "metadata": {},
   "source": [
    "### Part 3"
   ]
  },
  {
   "cell_type": "code",
   "execution_count": 36,
   "metadata": {},
   "outputs": [],
   "source": [
    "import matplotlib.pyplot as plt\n",
    "import time"
   ]
  },
  {
   "cell_type": "code",
   "execution_count": 37,
   "metadata": {},
   "outputs": [],
   "source": [
    "d = [i for i in range(2,11)]\n",
    "train_acc_rfc = []\n",
    "test_acc_rfc = []"
   ]
  },
  {
   "cell_type": "code",
   "execution_count": 38,
   "metadata": {},
   "outputs": [
    {
     "name": "stdout",
     "output_type": "stream",
     "text": [
      "--- Took 5.090978622436523 seconds ---\n"
     ]
    }
   ],
   "source": [
    "start_time = time.time()\n",
    "\n",
    "for depth in range(2,11):\n",
    "    rfc = RandomForestClassifier(max_depth=depth)\n",
    "    rfc.fit(X_train, y_train)\n",
    "    rfc.predict(X_test)\n",
    "    \n",
    "    train_acc_rfc.append(rfc.score(X_train, y_train))\n",
    "    test_acc_rfc.append(rfc.score(X_test, y_test))\n",
    "    \n",
    "print(f\"--- Took {time.time() - start_time} seconds ---\")"
   ]
  },
  {
   "cell_type": "code",
   "execution_count": 39,
   "metadata": {},
   "outputs": [
    {
     "data": {
      "image/png": "[encoded data removed]",
      "text/plain": [
       "<Figure size 1000x600 with 1 Axes>"
      ]
     },
     "metadata": {},
     "output_type": "display_data"
    }
   ],
   "source": [
    "plt.figure(figsize=(10,6))\n",
    "plt.xlabel(\"Tree depth\")\n",
    "plt.ylabel(\"Accuracy\")\n",
    "plt.title(\"Random Forest Classifier\")\n",
    "plt.plot(d, train_acc_rfc, label=\"Train\")\n",
    "plt.plot(d, test_acc_rfc, label=\"Test\")\n",
    "plt.legend()\n",
    "plt.show()"
   ]
  },
  {
   "cell_type": "code",
   "execution_count": 40,
   "metadata": {},
   "outputs": [],
   "source": [
    "train_acc_gbc = []\n",
    "test_acc_gbc = []"
   ]
  },
  {
   "cell_type": "code",
   "execution_count": 41,
   "metadata": {},
   "outputs": [
    {
     "name": "stdout",
     "output_type": "stream",
     "text": [
      "--- Took 37.53479337692261 seconds ---\n"
     ]
    }
   ],
   "source": [
    "start_time = time.time()\n",
    "\n",
    "for depth in range(2,11):\n",
    "    gbc = GradientBoostingClassifier(max_depth=depth)\n",
    "    gbc.fit(X_train, y_train)\n",
    "    gbc.predict(X_test)\n",
    "    \n",
    "    train_acc_gbc.append(rfc.score(X_train, y_train))\n",
    "    test_acc_gbc.append(rfc.score(X_test, y_test))\n",
    "    \n",
    "print(f\"--- Took {time.time() - start_time} seconds ---\")"
   ]
  },
  {
   "cell_type": "code",
   "execution_count": 42,
   "metadata": {},
   "outputs": [
    {
     "data": {
      "image/png": "[encoded data removed]",
      "text/plain": [
       "<Figure size 1000x600 with 1 Axes>"
      ]
     },
     "metadata": {},
     "output_type": "display_data"
    }
   ],
   "source": [
    "plt.figure(figsize=(10,6))\n",
    "plt.xlabel(\"Tree depth\")\n",
    "plt.ylabel(\"Accuracy\")\n",
    "plt.title(\"Gradient Boosting Classifier\")\n",
    "plt.plot(d, train_acc_gbc, label=\"Train\")\n",
    "plt.plot(d, test_acc_gbc, label=\"Test\")\n",
    "plt.legend()\n",
    "plt.show()"
   ]
  },
  {
   "cell_type": "markdown",
   "metadata": {},
   "source": [
    "By looking at the training and testing plots of both Random Forest Classifier and Gradient Boosting Classifier, we see that Gradient Boosting Classifier shows similar results in all the tree depths from 2 to 10. Random Forest Classifier, on the other hand, showed a gradual increase in both train and test.\n",
    "\n",
    "However, the time it took for Gradient Boosting Classifier to finish the predictions with varying tree depths was 10 times more that of Random Forest Classifier. This is due to the fact that Gradient Boosting Classifier builds the tree sequentially."
   ]
  },
  {
   "cell_type": "code",
   "execution_count": null,
   "metadata": {},
   "outputs": [],
   "source": []
  }
 ],
 "metadata": {
  "colab": {
   "provenance": []
  },
  "kernelspec": {
   "display_name": "Python 3 (ipykernel)",
   "language": "python",
   "name": "python3"
  },
  "language_info": {
   "codemirror_mode": {
    "name": "ipython",
    "version": 3
   },
   "file_extension": ".py",
   "mimetype": "text/x-python",
   "name": "python",
   "nbconvert_exporter": "python",
   "pygments_lexer": "ipython3",
   "version": "3.9.13"
  },
  "vscode": {
   "interpreter": {
    "hash": "bd236a709519b3ae3b820ac756eadb1966d4cb8f661a5378fefc33f5d1fc84f1"
   }
  }
 },
 "nbformat": 4,
 "nbformat_minor": 1
}
